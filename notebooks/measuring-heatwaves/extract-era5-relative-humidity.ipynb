{
 "cells": [
  {
   "cell_type": "markdown",
   "metadata": {},
   "source": [
    "### Requirements"
   ]
  },
  {
   "cell_type": "code",
   "execution_count": 2,
   "metadata": {},
   "outputs": [],
   "source": [
    "import os\n",
    "import cdsapi\n",
    "\n",
    "# Replace UID:ApiKey with your UID and API key\n",
    "# c = cdsapi.Client(key=\"UID:ApiKey\")\n",
    "c = cdsapi.Client()"
   ]
  },
  {
   "cell_type": "markdown",
   "metadata": {},
   "source": [
    "# Extract temperature and Humidity data from ERA5\n",
    "\n",
    "This notebooks extracts data from the [CDSAPI](https://cds.climate.copernicus.eu/cdsapp#!/dataset/sis-agrometeorological-indicators?tab=form) "
   ]
  },
  {
   "cell_type": "markdown",
   "metadata": {},
   "source": [
    "### Extract Relative Humidity Data"
   ]
  },
  {
   "cell_type": "markdown",
   "metadata": {},
   "source": [
    "### Extracting humidity"
   ]
  },
  {
   "cell_type": "code",
   "execution_count": null,
   "metadata": {},
   "outputs": [],
   "source": [
    "years = list(range(1979, 2024))\n",
    "months = ['01', '02', '03', '04', '05', '06', '07', '08', '09', '10', '11', '12']\n",
    "\n",
    "for year in years:\n",
    "    for month in months:\n",
    "        c.retrieve(\n",
    "            'sis-agrometeorological-indicators',\n",
    "            {\n",
    "                'variable': '2m_relative_humidity',\n",
    "                'year': str(year),\n",
    "                'month': month,\n",
    "                'day': [\n",
    "                    '01', '02', '03',\n",
    "                    '04', '05', '06',\n",
    "                    '07', '08', '09',\n",
    "                    '10', '11', '12',\n",
    "                    '13', '14', '15',\n",
    "                    '16', '17', '18',\n",
    "                    '19', '20', '21',\n",
    "                    '22', '23', '24',\n",
    "                    '25', '26', '27',\n",
    "                    '28', '29', '30',\n",
    "                    '31',\n",
    "                ],\n",
    "                'time': [\n",
    "                    '06_00', '09_00', '12_00',\n",
    "                    '15_00', '18_00'\n",
    "                ],\n",
    "                'area': [\n",
    "                    117.17427453, 5.58100332277, 126.537423944, 18.5052273625, # Bounding box for Philippines\n",
    "                ],\n",
    "                'format': 'zip',\n",
    "            },\n",
    "            f'../../data/remotesensing/era5/idn_cli_era5ag_rh2m_{year}{month}01.zip'\n",
    "        )\n",
    "\n",
    "        print(f'idn_cli_era5ag_rh2m_{year}{month}.zip downloaded.')"
   ]
  }
 ],
 "metadata": {
  "kernelspec": {
   "display_name": "heatwaves",
   "language": "python",
   "name": "python3"
  },
  "language_info": {
   "codemirror_mode": {
    "name": "ipython",
    "version": 3
   },
   "file_extension": ".py",
   "mimetype": "text/x-python",
   "name": "python",
   "nbconvert_exporter": "python",
   "pygments_lexer": "ipython3",
   "version": "3.10.11"
  },
  "orig_nbformat": 4
 },
 "nbformat": 4,
 "nbformat_minor": 2
}
