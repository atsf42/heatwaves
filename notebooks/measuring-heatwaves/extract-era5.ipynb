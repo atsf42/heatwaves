{
 "cells": [
  {
   "cell_type": "markdown",
   "metadata": {},
   "source": [
    "### Requirements"
   ]
  },
  {
   "cell_type": "code",
   "execution_count": 2,
   "metadata": {},
   "outputs": [],
   "source": [
    "import os\n",
    "import cdsapi\n",
    "\n",
    "# Replace UID:ApiKey with your UID and API key\n",
    "# c = cdsapi.Client(key=\"UID:ApiKey\")\n",
    "c = cdsapi.Client()"
   ]
  },
  {
   "cell_type": "markdown",
   "metadata": {},
   "source": [
    "# Extract temperature and Humidity data from ERA5\n",
    "\n",
    "This notebooks extracts data from the [CDSAPI](https://cds.climate.copernicus.eu/cdsapp#!/dataset/sis-agrometeorological-indicators?tab=form) "
   ]
  },
  {
   "cell_type": "markdown",
   "metadata": {},
   "source": [
    "### Extract Temperature Data"
   ]
  },
  {
   "cell_type": "code",
   "execution_count": 10,
   "metadata": {},
   "outputs": [
    {
     "name": "stderr",
     "output_type": "stream",
     "text": [
      "2023-07-26 17:52:18,561 INFO Welcome to the CDS\n",
      "2023-07-26 17:52:18,563 INFO Sending request to https://cds.climate.copernicus.eu/api/v2/resources/sis-agrometeorological-indicators\n",
      "2023-07-26 17:52:18,709 INFO Request is queued\n",
      "2023-07-26 17:52:19,934 INFO Request is running\n",
      "2023-07-26 17:52:21,585 INFO Request is completed\n",
      "2023-07-26 17:52:21,587 INFO Downloading https://download-0010-clone.copernicus-climate.eu/cache-compute-0010/cache/data0/dataset-sis-agrometeorological-indicators-8d536d6a-be96-4e1f-b421-ce2859179a44.tar.gz to ../../data/remotesensing/era5/idn_cli_era5ag_t2m_20230101.tar.gz (35.3M)\n",
      "2023-07-26 17:52:44,884 INFO Download rate 1.5M/s   \n"
     ]
    },
    {
     "name": "stdout",
     "output_type": "stream",
     "text": [
      "idn_cli_era5ag_temp_rh_202301.zip downloaded.\n"
     ]
    }
   ],
   "source": [
    "years = list(range(1979, 2024))\n",
    "months = ['01', '02', '03', '04', '05', '06', '07', '08', '09', '10', '11', '12']\n",
    "\n",
    "for year in years:\n",
    "    for month in months:\n",
    "        c.retrieve(\n",
    "            'sis-agrometeorological-indicators',\n",
    "            {\n",
    "                'variable': '2m_temperature',\n",
    "                'day':['01'],\n",
    "                'statistic':['day_time_mean', 'day_time_maximum', 'night_time_minimum', 'night_time_mean', '24_hour_maximum', '24_hour_minimum', '24_hour_mean'],\n",
    "                'year': str(year),\n",
    "                'month': month,\n",
    "                'day': [\n",
    "                    '01', '02', '03',\n",
    "                    '04', '05', '06',\n",
    "                    '07', '08', '09',\n",
    "                    '10', '11', '12',\n",
    "                    '13', '14', '15',\n",
    "                    '16', '17', '18',\n",
    "                    '19', '20', '21',\n",
    "                    '22', '23', '24',\n",
    "                    '25', '26', '27',\n",
    "                    '28', '29', '30',\n",
    "                    '31',\n",
    "                ],\n",
    "                'area': [\n",
    "                    117.17427453, 5.58100332277, 126.537423944, 18.5052273625, # Bounding box for Philippines\n",
    "                ],\n",
    "                'format': 'zip',\n",
    "            },\n",
    "            f'../../data/remotesensing/era5/idn_cli_era5ag_t2m_{year}{month}01.zip'\n",
    "        )\n",
    "\n",
    "        print(f'idn_cli_era5ag_t2m_{year}{month}.zip downloaded.')"
   ]
  }
 ],
 "metadata": {
  "kernelspec": {
   "display_name": "heatwaves",
   "language": "python",
   "name": "python3"
  },
  "language_info": {
   "codemirror_mode": {
    "name": "ipython",
    "version": 3
   },
   "file_extension": ".py",
   "mimetype": "text/x-python",
   "name": "python",
   "nbconvert_exporter": "python",
   "pygments_lexer": "ipython3",
   "version": "3.10.11"
  },
  "orig_nbformat": 4
 },
 "nbformat": 4,
 "nbformat_minor": 2
}
