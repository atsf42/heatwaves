{
 "cells": [
  {
   "cell_type": "code",
   "execution_count": 1,
   "metadata": {},
   "outputs": [],
   "source": [
    "import os\n",
    "import cdsapi\n",
    "\n",
    "# Replace UID:ApiKey with your UID and API key\n",
    "# c = cdsapi.Client(key=\"UID:ApiKey\")\n",
    "c = cdsapi.Client()"
   ]
  },
  {
   "cell_type": "code",
   "execution_count": 3,
   "metadata": {},
   "outputs": [
    {
     "name": "stderr",
     "output_type": "stream",
     "text": [
      "2023-07-26 14:11:09,474 INFO Welcome to the CDS\n",
      "2023-07-26 14:11:09,475 INFO Sending request to https://cds.climate.copernicus.eu/api/v2/resources/sis-agrometeorological-indicators\n",
      "2023-07-26 14:11:09,747 INFO Request is queued\n",
      "2023-07-26 14:11:10,866 INFO Request is running\n",
      "2023-07-26 14:11:31,250 INFO Request is completed\n",
      "2023-07-26 14:11:31,252 INFO Downloading https://download-0008-clone.copernicus-climate.eu/cache-compute-0008/cache/data0/dataset-sis-agrometeorological-indicators-9ffd9e07-5392-43b8-97c1-66dcfe9d76c3.zip to ../../data/remotesensing/era5/idn_cli_era5ag_rh2m_202301.zip (632.6M)\n",
      "2023-07-26 14:13:47,660 INFO Download rate 4.6M/s    \n",
      "2023-07-26 14:13:48,552 INFO Welcome to the CDS\n",
      "2023-07-26 14:13:48,553 INFO Sending request to https://cds.climate.copernicus.eu/api/v2/resources/sis-agrometeorological-indicators\n"
     ]
    },
    {
     "name": "stdout",
     "output_type": "stream",
     "text": [
      "idn_cli_era5ag_temp_rh_202301.zip downloaded.\n"
     ]
    },
    {
     "name": "stderr",
     "output_type": "stream",
     "text": [
      "2023-07-26 14:13:48,716 INFO Request is queued\n",
      "2023-07-26 14:13:49,842 INFO Request is running\n",
      "2023-07-26 14:14:10,234 INFO Request is completed\n",
      "2023-07-26 14:14:10,235 INFO Downloading https://download-0006-clone.copernicus-climate.eu/cache-compute-0006/cache/data0/dataset-sis-agrometeorological-indicators-c7b11770-7bcc-4edb-b8d4-3c82280be960.zip to ../../data/remotesensing/era5/idn_cli_era5ag_rh2m_202302.zip (573.3M)\n",
      "2023-07-26 14:21:39,586 INFO Download rate 1.3M/s    \n",
      "2023-07-26 14:21:40,689 INFO Welcome to the CDS\n",
      "2023-07-26 14:21:40,690 INFO Sending request to https://cds.climate.copernicus.eu/api/v2/resources/sis-agrometeorological-indicators\n"
     ]
    },
    {
     "name": "stdout",
     "output_type": "stream",
     "text": [
      "idn_cli_era5ag_temp_rh_202302.zip downloaded.\n"
     ]
    },
    {
     "name": "stderr",
     "output_type": "stream",
     "text": [
      "2023-07-26 14:21:40,910 INFO Request is queued\n",
      "2023-07-26 14:21:42,036 INFO Request is running\n",
      "2023-07-26 14:22:02,455 INFO Request is completed\n",
      "2023-07-26 14:22:02,455 INFO Downloading https://download-0002-clone.copernicus-climate.eu/cache-compute-0002/cache/data8/dataset-sis-agrometeorological-indicators-74747587-6e0f-4499-9b11-77d001886a3c.zip to ../../data/remotesensing/era5/idn_cli_era5ag_rh2m_202303.zip (634.9M)\n",
      "2023-07-26 14:24:34,410 INFO Download rate 4.2M/s    \n",
      "2023-07-26 14:24:35,367 INFO Welcome to the CDS\n",
      "2023-07-26 14:24:35,368 INFO Sending request to https://cds.climate.copernicus.eu/api/v2/resources/sis-agrometeorological-indicators\n"
     ]
    },
    {
     "name": "stdout",
     "output_type": "stream",
     "text": [
      "idn_cli_era5ag_temp_rh_202303.zip downloaded.\n"
     ]
    },
    {
     "name": "stderr",
     "output_type": "stream",
     "text": [
      "2023-07-26 14:24:35,515 INFO Request is queued\n",
      "2023-07-26 14:24:36,636 INFO Request is running\n",
      "2023-07-26 14:24:57,019 INFO Request is completed\n",
      "2023-07-26 14:24:57,020 INFO Downloading https://download-0017.copernicus-climate.eu/cache-compute-0017/cache/data2/dataset-sis-agrometeorological-indicators-ec1c507f-cfad-47fe-9036-0aab9f26f0d3.zip to ../../data/remotesensing/era5/idn_cli_era5ag_rh2m_202304.zip (613.2M)\n",
      "2023-07-26 14:27:39,380 INFO Download rate 3.8M/s    \n",
      "2023-07-26 14:27:40,544 INFO Welcome to the CDS\n",
      "2023-07-26 14:27:40,545 INFO Sending request to https://cds.climate.copernicus.eu/api/v2/resources/sis-agrometeorological-indicators\n"
     ]
    },
    {
     "name": "stdout",
     "output_type": "stream",
     "text": [
      "idn_cli_era5ag_temp_rh_202304.zip downloaded.\n"
     ]
    },
    {
     "name": "stderr",
     "output_type": "stream",
     "text": [
      "2023-07-26 14:27:40,689 INFO Request is queued\n",
      "2023-07-26 14:27:41,807 INFO Request is running\n",
      "2023-07-26 14:28:02,220 INFO Request is completed\n",
      "2023-07-26 14:28:02,220 INFO Downloading https://download-0002-clone.copernicus-climate.eu/cache-compute-0002/cache/data2/dataset-sis-agrometeorological-indicators-09129f8d-f472-4f60-a937-fedf5b848892.zip to ../../data/remotesensing/era5/idn_cli_era5ag_rh2m_202305.zip (633.6M)\n",
      "2023-07-26 14:30:43,544 INFO Download rate 3.9M/s    \n",
      "2023-07-26 14:30:44,558 INFO Welcome to the CDS\n",
      "2023-07-26 14:30:44,559 INFO Sending request to https://cds.climate.copernicus.eu/api/v2/resources/sis-agrometeorological-indicators\n"
     ]
    },
    {
     "name": "stdout",
     "output_type": "stream",
     "text": [
      "idn_cli_era5ag_temp_rh_202305.zip downloaded.\n"
     ]
    },
    {
     "name": "stderr",
     "output_type": "stream",
     "text": [
      "2023-07-26 14:30:44,700 INFO Request is queued\n",
      "2023-07-26 14:30:45,832 INFO Request is running\n",
      "2023-07-26 14:31:06,246 INFO Request is completed\n",
      "2023-07-26 14:31:06,248 INFO Downloading https://download-0004-clone.copernicus-climate.eu/cache-compute-0004/cache/data0/dataset-sis-agrometeorological-indicators-b97582f4-1d3a-4683-ba47-2051c9c924bd.zip to ../../data/remotesensing/era5/idn_cli_era5ag_rh2m_202306.zip (612.9M)\n",
      "2023-07-26 14:37:17,293 INFO Download rate 1.7M/s    \n",
      "2023-07-26 14:37:18,090 INFO Welcome to the CDS\n",
      "2023-07-26 14:37:18,090 INFO Sending request to https://cds.climate.copernicus.eu/api/v2/resources/sis-agrometeorological-indicators\n"
     ]
    },
    {
     "name": "stdout",
     "output_type": "stream",
     "text": [
      "idn_cli_era5ag_temp_rh_202306.zip downloaded.\n"
     ]
    },
    {
     "name": "stderr",
     "output_type": "stream",
     "text": [
      "2023-07-26 14:37:18,255 INFO Request is queued\n",
      "2023-07-26 14:37:19,382 INFO Request is running\n",
      "2023-07-26 14:37:32,048 INFO Request is completed\n",
      "2023-07-26 14:37:32,049 INFO Downloading https://download-0011-clone.copernicus-climate.eu/cache-compute-0011/cache/data8/dataset-sis-agrometeorological-indicators-0b2b805d-e01a-4689-910c-c58273f8fead.zip to ../../data/remotesensing/era5/idn_cli_era5ag_rh2m_202307.zip (368.2M)\n",
      "2023-07-26 14:39:18,594 INFO Download rate 3.5M/s    \n"
     ]
    },
    {
     "name": "stdout",
     "output_type": "stream",
     "text": [
      "idn_cli_era5ag_temp_rh_202307.zip downloaded.\n"
     ]
    }
   ],
   "source": [
    "years = list(range(2023, 2024))\n",
    "months = ['01', '02', '03', '04', '05', '06', '07']#, '08', '09', '10', '11', '12']\n",
    "\n",
    "for year in years:\n",
    "    for month in months:\n",
    "        c.retrieve(\n",
    "            'sis-agrometeorological-indicators',\n",
    "            {\n",
    "                'variable': [\n",
    "                    '2m_relative_humidity','2m_temperature'\n",
    "                ],\n",
    "                'statistic':['day_time_mean', 'day_time_maximum', 'night_time_minimum', 'night_time_mean'],\n",
    "                'year': str(year),\n",
    "                'month': month,\n",
    "                'day': [\n",
    "                    '01', '02', '03',\n",
    "                    '04', '05', '06',\n",
    "                    '07', '08', '09',\n",
    "                    '10', '11', '12',\n",
    "                    '13', '14', '15',\n",
    "                    '16', '17', '18',\n",
    "                    '19', '20', '21',\n",
    "                    '22', '23', '24',\n",
    "                    '25', '26', '27',\n",
    "                    '28', '29', '30',\n",
    "                    '31',\n",
    "                ],\n",
    "                # 'time': [\n",
    "                #     '06_00', '09_00', '12_00',\n",
    "                #     '15_00', '18_00',\n",
    "                # ],\n",
    "                'area': [\n",
    "                    117.17427453, 5.58100332277, 126.537423944, 18.5052273625, # Bounding box for Philippines\n",
    "                ],\n",
    "                'format': 'zip',\n",
    "            },\n",
    "            f'../../data/remotesensing/era5/idn_cli_era5ag_rh2m_{year}{month}.zip'\n",
    "        )\n",
    "\n",
    "        print(f'idn_cli_era5ag_temp_rh_{year}{month}.zip downloaded.')"
   ]
  }
 ],
 "metadata": {
  "kernelspec": {
   "display_name": "heatwaves",
   "language": "python",
   "name": "python3"
  },
  "language_info": {
   "codemirror_mode": {
    "name": "ipython",
    "version": 3
   },
   "file_extension": ".py",
   "mimetype": "text/x-python",
   "name": "python",
   "nbconvert_exporter": "python",
   "pygments_lexer": "ipython3",
   "version": "3.10.11"
  },
  "orig_nbformat": 4
 },
 "nbformat": 4,
 "nbformat_minor": 2
}
